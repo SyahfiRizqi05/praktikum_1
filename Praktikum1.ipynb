{
  "nbformat": 4,
  "nbformat_minor": 0,
  "metadata": {
    "colab": {
      "provenance": [],
      "authorship_tag": "ABX9TyM9ufOadDqjU2iAT0rD2gI9",
      "include_colab_link": true
    },
    "kernelspec": {
      "name": "python3",
      "display_name": "Python 3"
    },
    "language_info": {
      "name": "python"
    }
  },
  "cells": [
    {
      "cell_type": "markdown",
      "metadata": {
        "id": "view-in-github",
        "colab_type": "text"
      },
      "source": [
        "<a href=\"https://colab.research.google.com/github/SyahfiRizqi05/praktikum_1/blob/main/Praktikum1.ipynb\" target=\"_parent\"><img src=\"https://colab.research.google.com/assets/colab-badge.svg\" alt=\"Open In Colab\"/></a>"
      ]
    },
    {
      "cell_type": "code",
      "execution_count": 10,
      "metadata": {
        "id": "V5qYm4Ulcpwd"
      },
      "outputs": [],
      "source": []
    },
    {
      "cell_type": "markdown",
      "source": [
        "# Business Under Standing\n",
        "\n",
        "###Business Objective\n",
        "\n",
        "Tujuan bisnis dari proyek ini adalah untuk mengoptimalkan strategi dan kinerja tim dalam Indian Premier League (IPL) menggunakan data yang tersedia dalam IPL Complete Dataset. Hal ini mencakup identifikasi pola, tren, dan faktor-faktor kunci yang mempengaruhi hasil pertandingan, serta pengembangan strategi yang lebih efektif untuk mencapai kesuksesan dalam turnamen\n",
        "\n",
        "\n",
        "###Assess Situation\n",
        "\n",
        "IPL merupakan salah satu turnamen kriket paling bergengsi di dunia yang menarik minat global. Namun, kinerja tim dapat dipengaruhi oleh berbagai faktor seperti komposisi tim, kondisi lapangan, keputusan taktis, dan performa individu pemain. Dengan IPL Complete Dataset, kami memiliki akses ke informasi lengkap tentang setiap pertandingan, pemain, dan detail ball-by-ball, yang memungkinkan kami untuk melakukan analisis mendalam terhadap kinerja tim dan faktor-faktor yang memengaruhi hasil pertandingan\n",
        "\n",
        "###Data Mining Goals\n",
        "\n",
        "Tujuan dari analisis data ini adalah:\n",
        "Mengidentifikasi pola dan tren dalam hasil pertandingan IPL.\n",
        "Menganalisis kinerja individu dan tim secara statistik.\n",
        "Membangun model prediksi untuk hasil pertandingan IPL.\n",
        "Mengidentifikasi faktor-faktor kunci yang mempengaruhi hasil pertandingan.\n",
        "Membuat rekomendasi strategis untuk meningkatkan kinerja tim dalam IPL\n",
        "\n",
        "###Project Plan\n",
        "\n",
        "Project Plan untuk Analisis IPL Complete Dataset:\n",
        "\n",
        "Pengumpulan Data:\n",
        "Mengunduh atau memperoleh IPL Complete Dataset dari sumber yang dapat dipercaya seperti situs resmi IPL atau platform data olahraga terpercaya.\n",
        "\n",
        "Data Preprocessing:\n",
        "\n",
        "Memeriksa keberadaan nilai yang hilang atau tidak lengkap dalam dataset.\n",
        "Melakukan penggabungan data dari file CSV matches dan deliveries menjadi satu dataset yang komprehensif, menggunakan kunci unik seperti ID pertandingan.\n",
        "\n",
        "Analisis Kinerja Tim:\n",
        "\n",
        "Menganalisis kinerja tim selama berbagai musim IPL berdasarkan statistik seperti jumlah kemenangan, rata-rata run rate, dan keberhasilan di berbagai kondisi lapangan.\n",
        "Evaluasi kinerja tim dalam pertandingan kandang dan tandang, serta dalam pertandingan eliminasi.\n",
        "\n",
        "Penyebaran Hasil:\n",
        "\n",
        "Berbagi laporan dan temuan dengan pemangku kepentingan terkait, termasuk manajemen tim, pelatih, dan pemain.\n",
        "Menggunakan temuan untuk mendukung pengambilan keputusan strategis dalam persiapan untuk musim IPL berikutnya."
      ],
      "metadata": {
        "id": "ABBVji2mc6rz"
      }
    }
  ]
}